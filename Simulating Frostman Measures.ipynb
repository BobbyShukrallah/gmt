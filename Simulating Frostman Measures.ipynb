{
 "cells": [
  {
   "cell_type": "code",
   "execution_count": 2,
   "metadata": {},
   "outputs": [],
   "source": [
    "import numpy as np\n",
    "import matplotlib.pyplot as plt\n",
    "from gmt import Interval,Ball, Cube, plot_cube, plot_cubes\n"
   ]
  },
  {
   "cell_type": "code",
   "execution_count": 3,
   "metadata": {},
   "outputs": [],
   "source": [
    "def get_random_points(m,mu,sigma):\n",
    "    X = np.random.multivariate_normal(np.array(mu),cov=np.array([[sigma,0],[0,sigma]]), size=m)\n",
    "    X = np.array([x for x in X if np.max(np.absolute(x-np.array([.5,.5])))<=.45])\n",
    "    return X\n",
    "\n",
    "def default(ax):\n",
    "    ax.set_xlim([-.01,1.01])\n",
    "    ax.set_ylim([-.01,1.01])\n",
    "    ax.set_aspect(\"equal\")\n",
    "    ax.axis(\"off\")\n",
    "    return ax\n",
    "\n",
    "\n",
    "\n",
    "\n",
    "    "
   ]
  },
  {
   "cell_type": "code",
   "execution_count": 4,
   "metadata": {},
   "outputs": [
    {
     "data": {
      "text/plain": [
       "{Cube[[0.0, 0.125], [0.0, 0.125]], Cube[[0.5, 0.625], [0.5, 0.625]]}"
      ]
     },
     "execution_count": 4,
     "metadata": {},
     "output_type": "execute_result"
    }
   ],
   "source": [
    "\n",
    "#Returns interval of generation n containing point\n",
    "def covering_interval(x,n):\n",
    "    a = (x * (2**n) // 1) * (2**(-n))\n",
    "    return Interval([a,a+2**(-n)])\n",
    "\n",
    "#Returns intervals of generation n covering set of points\n",
    "def get_interval_cover(X,n):\n",
    "    return {covering_interval(x,n) for x in X}\n",
    "\n",
    "#Returns cube of generation n containing point   \n",
    "def covering_cube(x,n):\n",
    "    return Cube([covering_interval(coordinate,n) for coordinate in x])\n",
    "\n",
    "#Returns cube of generation n covering set of points\n",
    "def get_cube_cover(X,n):\n",
    "    return {covering_cube(x,n) for x in X}\n",
    "\n",
    "get_cube_cover([[.1,.1], [.6,.6]],3)"
   ]
  },
  {
   "cell_type": "code",
   "execution_count": 5,
   "metadata": {},
   "outputs": [
    {
     "data": {
      "image/png": "[encoded data removed]",
      "text/plain": [
       "<Figure size 432x288 with 1 Axes>"
      ]
     },
     "metadata": {
      "needs_background": "light"
     },
     "output_type": "display_data"
    }
   ],
   "source": [
    "\"\"\"\n",
    "The following function returns a dictionary of lists of cubes in the unit cube, indexed by the level. So for example\n",
    "tree[0] is a list comprising just of the children cubes, tree[1] are the children of those children, and so on. You \n",
    "can specify a depth n that you would like to go and the dimension you're working in, so get_tree_of_cubes(n=2,d=2) \n",
    "will return a dictionary called \"tree\" of lists of 2-dimensional cubes, i.e. squares, so that tree[0] is the top \n",
    "square, tree[1] is its children, and tree[2] are the children of those children. If a Nxd numpy array X is provided,\n",
    "then the dimension is inferred from this array (and set equal to d) and a tree is returned that contains only cubes \n",
    "containing points in X.\n",
    "\n",
    "We won't actually need this localized tree option below, but it could be useful.\n",
    "\"\"\"\n",
    "\n",
    "def get_tree_of_cubes(n,d=None,X=None):\n",
    "    if type(X) is np.ndarray:\n",
    "        d=X.shape[1]\n",
    "    else:\n",
    "        assert d>=1 and type(d) is int, \"Must specify an integer dimension d unless a list of points X is provided\"\n",
    "\n",
    "    tree = dict()\n",
    "    unit_square = Cube([[0,1] for _ in range(d)])\n",
    "    \n",
    "    for i in range(n+1):\n",
    "        if type(X) is np.ndarray:\n",
    "            tree[i] = get_cube_cover(X,i)\n",
    "            \n",
    "        else:\n",
    "            tree[i] = unit_square.descendants(i)\n",
    "    return tree\n",
    "\n",
    "\n",
    "\"\"\"\n",
    "As an example, we get three levels of squares that contain the coordinate [.4,.5] and plot them\n",
    "\"\"\"\n",
    "\n",
    "g = get_tree_of_cubes(3,2,X=np.array([[.4,.5]]))\n",
    "\n",
    "fig, ax = plt.subplots()\n",
    "for i in g:\n",
    "    plot_cubes(list(g[i]), ax=ax, alpha=.5)"
   ]
  },
  {
   "cell_type": "markdown",
   "metadata": {},
   "source": [
    "The proof for the existence of an s-Frostman measure of level n given a set X goes as follows, we refer to the proof in Mattila's *Geometry of Sets and Measures*.\n",
    "\n",
    "We define a sequence of measures $\\mu_{n}^{k}$ for $k=n,n-1,...,0$, with density given by $f_{m}^{k}dx$ where dx is Lebesgue measure and $f_{n}^{k}$ is some function. Denoting the set of dyadic cubes in the unit cube of sidelength $2^{-k}$ as $\\Delta_k$, We start by setting $\\mu_{n}^{n}(Q)=\\ell(Q)^{s}$ for all $Q\\in \\Delta_{n}$ that intersect the set X (so $f_{n}^{n}|_{Q} = \\mu(Q)/|Q| = 2^{-n(s-d)}$ and zero otherwise (so $f_{n}^{n}|_{Q}=0$). Inductively, if $\\mu_{n}^{k+1}=f_{n}^{k+1}dx$ has been defined, for each $Q\\in \\Delta_{k}$ we set $density(Q) = \\min\\{1,\\ell(Q)^{s}/\\mu_{n}^{k+1}(Q)\\}$ (with the understanding that dividing by zero is infinity which is bigger than 1, so the density is one in that case) and define $\\mu_{n}^{k} = density(Q)\\cdot  \\mu_{n}^{k+1}$, so $f_{n}^{k}|_{Q} = density(Q) f_{n}^{k+1}|_{Q}$. We repeat this process until we reach $\\mu_{n}^{0}$ and $f_{n}^{0}$, and then take a weak limit as $n\\rightarrow\\infty$. Observe that for a fixed $n$, and $Q\\in \\Delta_n$ intersecting $X$,\n",
    "\n",
    "$$f_{m}^{0}dx|_{Q} = density(Q_0)\\cdot f_{m}^{1}dx|_{Q} = \\cdots = \\left(\\prod_{k=0}^{n-1} density(Q_k)\\right) f_{m}^{m}dx|_{Q} = 2^{n(s-d)}  \\left(\\prod_{k=0}^{n-1} density(Q_k)\\right) .$$\n",
    "\n",
    "In computing $f_{n}^{0}$ for a specified $n$, we will do this as follows. We wil define a dictionary mu defined on the tree of cubes. In the first instance, it will be defined to be equal to $\\ell(Q)^{s}$ for all cubes of sidelength $2^{-n}$ (the sidelength of a cube object is Q.len, so this quantity is written  ```Q.len**s```) that intersect $X$ (we define this to be ```bottom_cubes_over_X``` below). Then iterating over scales i=n-1,n-2,...,0, we perform the following operation:\n",
    "\n",
    "The cubes of level i are kept as a list in tree[i]. We first define the value of mu(Q) for a cube in tree[i] to be the sum of mu[R] over all its children. If mu(Q) is bigger than $\\ell(Q)^{s}$, then we record a correction term in a dictionary, ```density[Q] = Q.len**s / mu[Q]``` and we update the value of mu[Q] again by setting ```mu[Q] = Q.len**s = density[Q]**mu[Q]```; otherwise we leave mu[Q] alone and set ```density[Q]=1``` (that is, no correction is done). We also define the density to be zero on any of the bottom cubes that don't intersect X. \n",
    "\n",
    "Once we get to the top of the tree of cubes, or dictionary mu isn't exactly the measure on cubes, since each time we corrected the value of mu on a cube Q, we didn't do so for its descendants. This is so that we can be a bit more efficient; if we adjusted all descendants each time we visited a cube, we could adjust a cube as many as n times. The way we will do it, we will only need to adjust it once after we get to the top. \n",
    "\n",
    "We define our density using a dictionary of cubes on the tree, adjusting the values for each cube by defining the f value of the children of a cube Q as the value ```f[Q]*density[Q]```. We work down the tree until we get to the bottom cubes, and the value of f on these bottom cubes gives us our density f according to the equation above. Since we are only concerned with generating illustrations, we will just define our starting value to be 1 for the unit cube."
   ]
  },
  {
   "cell_type": "code",
   "execution_count": 30,
   "metadata": {},
   "outputs": [],
   "source": [
    "\n",
    "def frostmann_measure(X,n,s):\n",
    "    \n",
    "    d=X.shape[1]\n",
    "    \n",
    "    unit_cube = Cube([[0,1] for _ in range(d)])\n",
    "    \n",
    "    \n",
    "    \n",
    "    tree = get_tree_of_cubes(n,d)\n",
    "    \n",
    "    \n",
    "    \n",
    "    \n",
    "\n",
    "    bottom_cubes_over_X = get_cube_cover(X,n)\n",
    "    \n",
    "    \n",
    "    \n",
    "    unit_cube = Cube([[0,1] for _ in range(d)])\n",
    "    \n",
    "    \n",
    "\n",
    "    #Here we record our density and measure for cubes in the tree.\n",
    "    density=dict()\n",
    "    mu = dict()\n",
    "    #We first define the measure for the bottom squares.\n",
    "    for Q in tree[n]:\n",
    "        if Q in bottom_cubes_over_X:\n",
    "            mu[Q] = Q.len**s\n",
    "            density[Q]=1\n",
    "        else:\n",
    "            density[Q]=0\n",
    "            mu[Q]=0\n",
    "    #We start from the bottom of the tree and work upwards\n",
    "    for i in reversed(range(n)):\n",
    "        #For each cube in the ith level of the tree, we compute its measure as the sum of the measures of its \n",
    "        #children\n",
    "        for Q in tree[i]:\n",
    "            mu[Q] = sum([mu[R] for R in Q.children()])\n",
    "            #If the measure is too big, we record the correction factor density and redefine mu[Q] so that it is \n",
    "            #not too big\n",
    "            if mu[Q] > Q.len**s:\n",
    "                density[Q] = (Q.len**s)/mu[Q]\n",
    "                mu[Q] = Q.len**s\n",
    "            #otherwise, if the measure was positive but not too big, or if it was zero, we don't change the measure and record our\n",
    "            #correction factor as 1, i.e. no change\n",
    "            else:\n",
    "                density[Q] = 1\n",
    "    \n",
    "    f={unit_cube:1}\n",
    "    #The following loop computes the density of f by working its way down the tree of cubes and iteratively\n",
    "    #computing the product of the densities of nested chains of cubes. The final density f, defined over\n",
    "    #cubes at the bottom scale, is equal to the product of densities of all cubes containing a given cube. Note that\n",
    "    #We don't multiply by the top density, but that's ok since the resulting function f will only differ by a constant\n",
    "    for i in range(n):\n",
    "        for Q in tree[i]:\n",
    "            for R in Q.children():\n",
    "                f[R] = f[Q]*density[R]\n",
    "                \n",
    "    return {Q:f[Q] for Q in tree[n]}\n",
    "\n",
    "\n",
    "\n"
   ]
  },
  {
   "cell_type": "markdown",
   "metadata": {},
   "source": [
    "We now simulate and graph the density of the frostman measure for a particular set and for three different dimensions, s=.1, 1, 1.5, and 2. \n",
    "\n",
    "The set we consider will consist of some points randomly distributed according to a multivariate gaussian distribution near the center of the square, essentially to simulate a ball (which looks 2 dimensional) plus some noise (i.e. many isolated points). Additionally, we'll tack on a line passing through the set, which is distributed in a 1-dimensional way. "
   ]
  },
  {
   "cell_type": "code",
   "execution_count": 35,
   "metadata": {},
   "outputs": [],
   "source": [
    "#The following set we will consider is a bunch of points concentrated at the center of the unit square plus some points\n",
    "#along a line\n",
    "X = get_random_points(1000,[.5,.5],.01)\n",
    "\n",
    "X = np.concatenate([X,np.array([[t,1-t] for t in np.arange(.1,.9,.01)])])\n"
   ]
  },
  {
   "cell_type": "code",
   "execution_count": 42,
   "metadata": {},
   "outputs": [
    {
     "data": {
      "text/plain": [
       "Text(0, -0.1, '(b) $2.0$-Frostman Measure')"
      ]
     },
     "execution_count": 42,
     "metadata": {},
     "output_type": "execute_result"
    },
    {
     "data": {
      "image/png": "[encoded data removed]",
      "text/plain": [
       "<Figure size 2880x720 with 8 Axes>"
      ]
     },
     "metadata": {
      "needs_background": "light"
     },
     "output_type": "display_data"
    }
   ],
   "source": [
    "from  matplotlib import colorbar\n",
    "\n",
    "\n",
    "fig, axes = plt.subplots(1,4, figsize=(40,10))\n",
    "\n",
    "for ax in axes:\n",
    "    default(ax)\n",
    "    \n",
    "    \n",
    "cmap=plt.cm.Blues\n",
    "\n",
    "L = [.1,1,1.5,2]\n",
    "\n",
    "for i, ax in enumerate(axes):\n",
    "    \n",
    "    f = frostmann_measure(X,5,L[i]) \n",
    "\n",
    "    cax, _ = colorbar.make_axes(ax) \n",
    "    \n",
    "    cb = colorbar.ColorbarBase(cax, cmap=cmap)\n",
    "\n",
    "    max_density = max(f.values())\n",
    "\n",
    "    for Q in f:\n",
    "        plot_cube(Q, ax=ax, color=cmap(f[Q]/max_density))\n",
    "    \n",
    "axes[0].text(0, -.1, r\"(a) $0.1$-Frostman Measure\", size=24)\n",
    "axes[1].text(0,-.1, r\"(b) $1.0$-Frostman Measure\", size=24)\n",
    "axes[2].text(0,-.1, r\"(b) $1.5$-Frostman Measure\", size=24)\n",
    "axes[3].text(0,-.1, r\"(b) $2.0$-Frostman Measure\", size=24)"
   ]
  },
  {
   "cell_type": "markdown",
   "metadata": {},
   "source": [
    "For s=.1, the Frostman measure is concentrated around small dimensional parts of the set like isolated points, since in the construction. For s=1, we see now that the line (being 1-dimensional) now has large mass with respect to the Frostman measure, but not the interior of the blob. For s=1.5, now the measure gives large mass to the center blob but mostly near the boundary, since the set is more concentrated near the center. Finally, the 2-Frostman measure just returns a constant density, so the measure is just Lebesgue measure restricted to the 5-th generation squares containing our set."
   ]
  },
  {
   "cell_type": "code",
   "execution_count": null,
   "metadata": {},
   "outputs": [],
   "source": []
  }
 ],
 "metadata": {
  "kernelspec": {
   "display_name": "Python 3",
   "language": "python",
   "name": "python3"
  },
  "language_info": {
   "codemirror_mode": {
    "name": "ipython",
    "version": 3
   },
   "file_extension": ".py",
   "mimetype": "text/x-python",
   "name": "python",
   "nbconvert_exporter": "python",
   "pygments_lexer": "ipython3",
   "version": "3.7.6"
  }
 },
 "nbformat": 4,
 "nbformat_minor": 4
}
